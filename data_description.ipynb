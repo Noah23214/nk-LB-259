{
 "cells": [
  {
   "cell_type": "markdown",
   "id": "e86e2fa5",
   "metadata": {},
   "source": [
    "# Willkommen zu `jupyter`\n",
    "\n",
    "Wie Sie sehen, ist ein Notizbuch in Blocks aufgeteilt: Ein Block (wie dieser hier) kann entweder Text enthalten (in Markdown geschrieben), Code oder das Resultat, wenn Sie einen Code-Block ausführen. \n",
    "\n",
    "☝️ Klicken Sie doppelt auf diesen Text, um den Text-Block zu editieren, und speichern Sie Ihre Änderungen, indem Sie ⬆️ + ⏎ (*shift* + *enter*) drücken."
   ]
  },
  {
   "cell_type": "code",
   "execution_count": null,
   "id": "a037ca48",
   "metadata": {},
   "outputs": [],
   "source": [
    "2.1 Ich möchte Vohersagen für das Datenfelld Broadband Speed Rank Rank treffen, weil es mit den Datenfelld 'Broadband MPS' und 'Country' zussammen hängt.\n",
    "Natürlich gehört auch das 'As of' zum Datenfelld. Daher kann man es sehr gut ermieteln, weil die Verbidungen eindeutig sind.\n",
    "\n",
    "2.4 In meinem Datensatzt ist es nicht sinvoll eine skalierung durchzuführen, weil es sehr viele kleine Datensätze sind und daher das Scale Up keinen Sinn macht.\n",
    "Ebenfalls ist beim dem Scale-out die werscheinlichkeit hoch das ich Partitionierbare Probleme haben werde und ebbenfalls ist das Berechnungsergebniss vom Globalne Kontex abhängig.\n",
    "Aus diesen Gründen habe ich mich entschieden kein Datenfeld zu Skalieren."
   ]
  },
  {
   "cell_type": "code",
   "execution_count": 2,
   "id": "a0af9c4b",
   "metadata": {},
   "outputs": [
    {
     "name": "stdout",
     "output_type": "stream",
     "text": [
      "Requirement already satisfied: pandas in c:\\users\\noahk\\appdata\\local\\programs\\python\\python310\\lib\\site-packages (1.4.1)\n",
      "Requirement already satisfied: numpy>=1.21.0 in c:\\users\\noahk\\appdata\\local\\programs\\python\\python310\\lib\\site-packages (from pandas) (1.22.3)\n",
      "Requirement already satisfied: python-dateutil>=2.8.1 in c:\\users\\noahk\\appdata\\local\\programs\\python\\python310\\lib\\site-packages (from pandas) (2.8.2)\n",
      "Requirement already satisfied: pytz>=2020.1 in c:\\users\\noahk\\appdata\\local\\programs\\python\\python310\\lib\\site-packages (from pandas) (2021.3)\n",
      "Requirement already satisfied: six>=1.5 in c:\\users\\noahk\\appdata\\local\\programs\\python\\python310\\lib\\site-packages (from python-dateutil>=2.8.1->pandas) (1.16.0)\n"
     ]
    }
   ],
   "source": [
    "!pip install pandas"
   ]
  },
  {
   "cell_type": "code",
   "execution_count": 7,
   "id": "d897ff4e",
   "metadata": {},
   "outputs": [],
   "source": [
    "import pandas as pd\n",
    "dataset = pd.read_csv(\"Dataseten.csv\")"
   ]
  },
  {
   "cell_type": "code",
   "execution_count": 8,
   "id": "49f0819d",
   "metadata": {},
   "outputs": [
    {
     "data": {
      "text/html": [
       "<div>\n",
       "<style scoped>\n",
       "    .dataframe tbody tr th:only-of-type {\n",
       "        vertical-align: middle;\n",
       "    }\n",
       "\n",
       "    .dataframe tbody tr th {\n",
       "        vertical-align: top;\n",
       "    }\n",
       "\n",
       "    .dataframe thead th {\n",
       "        text-align: right;\n",
       "    }\n",
       "</style>\n",
       "<table border=\"1\" class=\"dataframe\">\n",
       "  <thead>\n",
       "    <tr style=\"text-align: right;\">\n",
       "      <th></th>\n",
       "      <th>Country;Broadband Speed Rank;Broadband Mbps;Mobile Speed Rank;Mobile Mbps;As of</th>\n",
       "    </tr>\n",
       "  </thead>\n",
       "  <tbody>\n",
       "    <tr>\n",
       "      <th>0</th>\n",
       "      <td>Monaco;1;192.68;;;01.01.2022</td>\n",
       "    </tr>\n",
       "    <tr>\n",
       "      <th>1</th>\n",
       "      <td>Singapore;2;192.01;19;64.92;01.01.2022</td>\n",
       "    </tr>\n",
       "    <tr>\n",
       "      <th>2</th>\n",
       "      <td>Chile;3;189.36;109;15.5;01.01.2022</td>\n",
       "    </tr>\n",
       "    <tr>\n",
       "      <th>3</th>\n",
       "      <td>Thailand;4;184.03;56;32.38;01.01.2022</td>\n",
       "    </tr>\n",
       "    <tr>\n",
       "      <th>4</th>\n",
       "      <td>Hong Kong (SAR);5;173.42;38;45.86;01.01.2022</td>\n",
       "    </tr>\n",
       "    <tr>\n",
       "      <th>5</th>\n",
       "      <td>Denmark;6;163.6;8;87.11;01.01.2022</td>\n",
       "    </tr>\n",
       "    <tr>\n",
       "      <th>6</th>\n",
       "      <td>Macau (SAR);7;156.73;35;47.56;01.01.2022</td>\n",
       "    </tr>\n",
       "    <tr>\n",
       "      <th>7</th>\n",
       "      <td>China;8;155.79;9;85.83;01.01.2022</td>\n",
       "    </tr>\n",
       "    <tr>\n",
       "      <th>8</th>\n",
       "      <td>United States;9;143.76;21;62.47;01.01.2022</td>\n",
       "    </tr>\n",
       "    <tr>\n",
       "      <th>9</th>\n",
       "      <td>Spain;10;134.19;49;35.59;01.01.2022</td>\n",
       "    </tr>\n",
       "  </tbody>\n",
       "</table>\n",
       "</div>"
      ],
      "text/plain": [
       "  Country;Broadband Speed Rank;Broadband Mbps;Mobile Speed Rank;Mobile Mbps;As of\n",
       "0                       Monaco;1;192.68;;;01.01.2022                             \n",
       "1             Singapore;2;192.01;19;64.92;01.01.2022                             \n",
       "2                 Chile;3;189.36;109;15.5;01.01.2022                             \n",
       "3              Thailand;4;184.03;56;32.38;01.01.2022                             \n",
       "4       Hong Kong (SAR);5;173.42;38;45.86;01.01.2022                             \n",
       "5                 Denmark;6;163.6;8;87.11;01.01.2022                             \n",
       "6           Macau (SAR);7;156.73;35;47.56;01.01.2022                             \n",
       "7                  China;8;155.79;9;85.83;01.01.2022                             \n",
       "8         United States;9;143.76;21;62.47;01.01.2022                             \n",
       "9                Spain;10;134.19;49;35.59;01.01.2022                             "
      ]
     },
     "execution_count": 8,
     "metadata": {},
     "output_type": "execute_result"
    }
   ],
   "source": [
    "dataset.head(10)"
   ]
  },
  {
   "cell_type": "code",
   "execution_count": 12,
   "id": "0a074d52",
   "metadata": {},
   "outputs": [],
   "source": [
    "from statistics import mean, median, mode, stdev"
   ]
  },
  {
   "cell_type": "code",
   "execution_count": 17,
   "id": "30c4d89d",
   "metadata": {},
   "outputs": [
    {
     "ename": "NameError",
     "evalue": "name 'Country' is not defined",
     "output_type": "error",
     "traceback": [
      "\u001b[1;31m---------------------------------------------------------------------------\u001b[0m",
      "\u001b[1;31mNameError\u001b[0m                                 Traceback (most recent call last)",
      "Input \u001b[1;32mIn [17]\u001b[0m, in \u001b[0;36m<cell line: 1>\u001b[1;34m()\u001b[0m\n\u001b[1;32m----> 1\u001b[0m median(\u001b[43mCountry\u001b[49m)\n",
      "\u001b[1;31mNameError\u001b[0m: name 'Country' is not defined"
     ]
    }
   ],
   "source": [
    "median(Country)"
   ]
  },
  {
   "cell_type": "markdown",
   "id": "8d87ea9a",
   "metadata": {},
   "source": [
    "🙆 Machen zum Abschluss Sie sich mit dem Menü und den verschiedenen Funktionen von `jupyter` vertraut - insbesondere wichtig sind: \n",
    "* unter `Insert` können Sie neue Blöcke einfügen\n",
    "* unter `Cell` können Sie den Typ eines Blocks ändern, und Blöcke ausführen\n",
    "* unter `Kernel` können Sie den `python`-*interpreter* neu starten etc."
   ]
  },
  {
   "cell_type": "code",
   "execution_count": 8,
   "id": "d3f7cf3c",
   "metadata": {},
   "outputs": [],
   "source": [
    "import pandas as pd\n",
    "dataset = pd.read_csv(\"Dataseten.csv\")"
   ]
  },
  {
   "cell_type": "code",
   "execution_count": 9,
   "id": "6c8b3d72",
   "metadata": {},
   "outputs": [
    {
     "ename": "ImportError",
     "evalue": "matplotlib is required for plotting when the default backend \"matplotlib\" is selected.",
     "output_type": "error",
     "traceback": [
      "\u001b[1;31m---------------------------------------------------------------------------\u001b[0m",
      "\u001b[1;31mImportError\u001b[0m                               Traceback (most recent call last)",
      "Input \u001b[1;32mIn [9]\u001b[0m, in \u001b[0;36m<cell line: 1>\u001b[1;34m()\u001b[0m\n\u001b[1;32m----> 1\u001b[0m dfplot \u001b[38;5;241m=\u001b[39m\u001b[43mdataset\u001b[49m\u001b[38;5;241;43m.\u001b[39;49m\u001b[43mplot\u001b[49m\u001b[43m(\u001b[49m\u001b[43mkind\u001b[49m\u001b[38;5;241;43m=\u001b[39;49m\u001b[38;5;124;43m\"\u001b[39;49m\u001b[38;5;124;43mhist\u001b[39;49m\u001b[38;5;124;43m\"\u001b[39;49m\u001b[43m)\u001b[49m\n",
      "File \u001b[1;32m~\\AppData\\Local\\Programs\\Python\\Python310\\lib\\site-packages\\pandas\\plotting\\_core.py:892\u001b[0m, in \u001b[0;36mPlotAccessor.__call__\u001b[1;34m(self, *args, **kwargs)\u001b[0m\n\u001b[0;32m    891\u001b[0m \u001b[38;5;28;01mdef\u001b[39;00m \u001b[38;5;21m__call__\u001b[39m(\u001b[38;5;28mself\u001b[39m, \u001b[38;5;241m*\u001b[39margs, \u001b[38;5;241m*\u001b[39m\u001b[38;5;241m*\u001b[39mkwargs):\n\u001b[1;32m--> 892\u001b[0m     plot_backend \u001b[38;5;241m=\u001b[39m \u001b[43m_get_plot_backend\u001b[49m\u001b[43m(\u001b[49m\u001b[43mkwargs\u001b[49m\u001b[38;5;241;43m.\u001b[39;49m\u001b[43mpop\u001b[49m\u001b[43m(\u001b[49m\u001b[38;5;124;43m\"\u001b[39;49m\u001b[38;5;124;43mbackend\u001b[39;49m\u001b[38;5;124;43m\"\u001b[39;49m\u001b[43m,\u001b[49m\u001b[43m \u001b[49m\u001b[38;5;28;43;01mNone\u001b[39;49;00m\u001b[43m)\u001b[49m\u001b[43m)\u001b[49m\n\u001b[0;32m    894\u001b[0m     x, y, kind, kwargs \u001b[38;5;241m=\u001b[39m \u001b[38;5;28mself\u001b[39m\u001b[38;5;241m.\u001b[39m_get_call_args(\n\u001b[0;32m    895\u001b[0m         plot_backend\u001b[38;5;241m.\u001b[39m\u001b[38;5;18m__name__\u001b[39m, \u001b[38;5;28mself\u001b[39m\u001b[38;5;241m.\u001b[39m_parent, args, kwargs\n\u001b[0;32m    896\u001b[0m     )\n\u001b[0;32m    898\u001b[0m     kind \u001b[38;5;241m=\u001b[39m \u001b[38;5;28mself\u001b[39m\u001b[38;5;241m.\u001b[39m_kind_aliases\u001b[38;5;241m.\u001b[39mget(kind, kind)\n",
      "File \u001b[1;32m~\\AppData\\Local\\Programs\\Python\\Python310\\lib\\site-packages\\pandas\\plotting\\_core.py:1849\u001b[0m, in \u001b[0;36m_get_plot_backend\u001b[1;34m(backend)\u001b[0m\n\u001b[0;32m   1846\u001b[0m \u001b[38;5;28;01mif\u001b[39;00m backend \u001b[38;5;129;01min\u001b[39;00m _backends:\n\u001b[0;32m   1847\u001b[0m     \u001b[38;5;28;01mreturn\u001b[39;00m _backends[backend]\n\u001b[1;32m-> 1849\u001b[0m module \u001b[38;5;241m=\u001b[39m \u001b[43m_load_backend\u001b[49m\u001b[43m(\u001b[49m\u001b[43mbackend\u001b[49m\u001b[43m)\u001b[49m\n\u001b[0;32m   1850\u001b[0m _backends[backend] \u001b[38;5;241m=\u001b[39m module\n\u001b[0;32m   1851\u001b[0m \u001b[38;5;28;01mreturn\u001b[39;00m module\n",
      "File \u001b[1;32m~\\AppData\\Local\\Programs\\Python\\Python310\\lib\\site-packages\\pandas\\plotting\\_core.py:1787\u001b[0m, in \u001b[0;36m_load_backend\u001b[1;34m(backend)\u001b[0m\n\u001b[0;32m   1785\u001b[0m         module \u001b[38;5;241m=\u001b[39m importlib\u001b[38;5;241m.\u001b[39mimport_module(\u001b[38;5;124m\"\u001b[39m\u001b[38;5;124mpandas.plotting._matplotlib\u001b[39m\u001b[38;5;124m\"\u001b[39m)\n\u001b[0;32m   1786\u001b[0m     \u001b[38;5;28;01mexcept\u001b[39;00m \u001b[38;5;167;01mImportError\u001b[39;00m:\n\u001b[1;32m-> 1787\u001b[0m         \u001b[38;5;28;01mraise\u001b[39;00m \u001b[38;5;167;01mImportError\u001b[39;00m(\n\u001b[0;32m   1788\u001b[0m             \u001b[38;5;124m\"\u001b[39m\u001b[38;5;124mmatplotlib is required for plotting when the \u001b[39m\u001b[38;5;124m\"\u001b[39m\n\u001b[0;32m   1789\u001b[0m             \u001b[38;5;124m'\u001b[39m\u001b[38;5;124mdefault backend \u001b[39m\u001b[38;5;124m\"\u001b[39m\u001b[38;5;124mmatplotlib\u001b[39m\u001b[38;5;124m\"\u001b[39m\u001b[38;5;124m is selected.\u001b[39m\u001b[38;5;124m'\u001b[39m\n\u001b[0;32m   1790\u001b[0m         ) \u001b[38;5;28;01mfrom\u001b[39;00m \u001b[38;5;28mNone\u001b[39m\n\u001b[0;32m   1791\u001b[0m     \u001b[38;5;28;01mreturn\u001b[39;00m module\n\u001b[0;32m   1793\u001b[0m found_backend \u001b[38;5;241m=\u001b[39m \u001b[38;5;28;01mFalse\u001b[39;00m\n",
      "\u001b[1;31mImportError\u001b[0m: matplotlib is required for plotting when the default backend \"matplotlib\" is selected."
     ]
    }
   ],
   "source": [
    "dfplot =dataset.plot(kind=\"hist\")"
   ]
  },
  {
   "cell_type": "code",
   "execution_count": null,
   "id": "5200336d",
   "metadata": {},
   "outputs": [],
   "source": []
  }
 ],
 "metadata": {
  "kernelspec": {
   "display_name": "Python 3 (ipykernel)",
   "language": "python",
   "name": "python3"
  },
  "language_info": {
   "codemirror_mode": {
    "name": "ipython",
    "version": 3
   },
   "file_extension": ".py",
   "mimetype": "text/x-python",
   "name": "python",
   "nbconvert_exporter": "python",
   "pygments_lexer": "ipython3",
   "version": "3.10.3"
  }
 },
 "nbformat": 4,
 "nbformat_minor": 5
}

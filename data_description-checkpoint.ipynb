{
 "cells": [
  {
   "cell_type": "markdown",
   "id": "e86e2fa5",
   "metadata": {},
   "source": [
    "# Willkommen zu `jupyter`\n",
    "\n",
    "Wie Sie sehen, ist ein Notizbuch in Blocks aufgeteilt: Ein Block (wie dieser hier) kann entweder Text enthalten (in Markdown geschrieben), Code oder das Resultat, wenn Sie einen Code-Block ausführen. \n",
    "\n",
    "☝️ Klicken Sie doppelt auf diesen Text, um den Text-Block zu editieren, und speichern Sie Ihre Änderungen, indem Sie ⬆️ + ⏎ (*shift* + *enter*) drücken."
   ]
  },
  {
   "cell_type": "code",
   "execution_count": 1,
   "id": "a037ca48",
   "metadata": {},
   "outputs": [
    {
     "ename": "SyntaxError",
     "evalue": "invalid syntax (Temp/ipykernel_11572/1376792578.py, line 1)",
     "output_type": "error",
     "traceback": [
      "\u001b[1;36m  File \u001b[1;32m\"C:\\Users\\noahk\\AppData\\Local\\Temp/ipykernel_11572/1376792578.py\"\u001b[1;36m, line \u001b[1;32m1\u001b[0m\n\u001b[1;33m    2.1 Ich möchte Vohersagen für das Datenfelld Broadband Speed Rank Rank treffen, weil es mit den Datenfelld 'Broadband MPS' und 'Country' zussammen hängt.\u001b[0m\n\u001b[1;37m        ^\u001b[0m\n\u001b[1;31mSyntaxError\u001b[0m\u001b[1;31m:\u001b[0m invalid syntax\n"
     ]
    }
   ],
   "source": [
    "2.1 #Ich möchte Vohersagen für das Datenfelld Broadband Speed Rank Rank treffen, weil es mit den Datenfelld 'Broadband MPS' und 'Country' zussammen hängt.\n",
    "#Natürlich gehört auch das 'As of' zum Datenfelld. Daher kann man es sehr gut ermieteln, weil die Verbidungen eindeutig sind.\n",
    "\n",
    "2.4 #In meinem Datensatzt ist es nicht sinvoll eine skalierung durchzuführen, weil es sehr viele kleine Datensätze sind und daher das Scale Up keinen Sinn macht.\n",
    "#Ebenfalls ist beim dem Scale-out die werscheinlichkeit hoch das ich Partitionierbare Probleme haben werde und ebbenfalls ist das Berechnungsergebniss vom Globalne Kontex abhängig.\n",
    "#Aus diesen Gründen habe ich mich entschieden kein Datenfeld zu Skalieren."
   ]
  },
  {
   "cell_type": "code",
   "execution_count": 1,
   "id": "a0af9c4b",
   "metadata": {},
   "outputs": [
    {
     "name": "stdout",
     "output_type": "stream",
     "text": [
      "Requirement already satisfied: pandas in c:\\apps\\anaconda\\lib\\site-packages (1.3.4)\n",
      "Requirement already satisfied: python-dateutil>=2.7.3 in c:\\apps\\anaconda\\lib\\site-packages (from pandas) (2.8.2)\n",
      "Requirement already satisfied: pytz>=2017.3 in c:\\apps\\anaconda\\lib\\site-packages (from pandas) (2021.3)\n",
      "Requirement already satisfied: numpy>=1.17.3 in c:\\apps\\anaconda\\lib\\site-packages (from pandas) (1.20.3)\n",
      "Requirement already satisfied: six>=1.5 in c:\\apps\\anaconda\\lib\\site-packages (from python-dateutil>=2.7.3->pandas) (1.16.0)\n"
     ]
    }
   ],
   "source": [
    "!pip install pandas"
   ]
  },
  {
   "cell_type": "code",
   "execution_count": 2,
   "id": "d897ff4e",
   "metadata": {},
   "outputs": [],
   "source": [
    "import pandas as pd\n",
    "dataset = pd.read_excel(\"Dataset.xlsx\")"
   ]
  },
  {
   "cell_type": "code",
   "execution_count": 3,
   "id": "49f0819d",
   "metadata": {},
   "outputs": [
    {
     "data": {
      "text/html": [
       "<div>\n",
       "<style scoped>\n",
       "    .dataframe tbody tr th:only-of-type {\n",
       "        vertical-align: middle;\n",
       "    }\n",
       "\n",
       "    .dataframe tbody tr th {\n",
       "        vertical-align: top;\n",
       "    }\n",
       "\n",
       "    .dataframe thead th {\n",
       "        text-align: right;\n",
       "    }\n",
       "</style>\n",
       "<table border=\"1\" class=\"dataframe\">\n",
       "  <thead>\n",
       "    <tr style=\"text-align: right;\">\n",
       "      <th></th>\n",
       "      <th>Country</th>\n",
       "      <th>Broadband Speed Rank</th>\n",
       "      <th>Broadband Mbps</th>\n",
       "      <th>Mobile Speed Rank</th>\n",
       "      <th>Mobile Mbps</th>\n",
       "      <th>As of</th>\n",
       "    </tr>\n",
       "  </thead>\n",
       "  <tbody>\n",
       "    <tr>\n",
       "      <th>0</th>\n",
       "      <td>Monaco</td>\n",
       "      <td>1</td>\n",
       "      <td>192.68</td>\n",
       "      <td>NaN</td>\n",
       "      <td>NaN</td>\n",
       "      <td>2022-01-01</td>\n",
       "    </tr>\n",
       "    <tr>\n",
       "      <th>1</th>\n",
       "      <td>Singapore</td>\n",
       "      <td>2</td>\n",
       "      <td>192.01</td>\n",
       "      <td>19.0</td>\n",
       "      <td>64.92</td>\n",
       "      <td>2022-01-01</td>\n",
       "    </tr>\n",
       "    <tr>\n",
       "      <th>2</th>\n",
       "      <td>Chile</td>\n",
       "      <td>3</td>\n",
       "      <td>189.36</td>\n",
       "      <td>109.0</td>\n",
       "      <td>15.50</td>\n",
       "      <td>2022-01-01</td>\n",
       "    </tr>\n",
       "    <tr>\n",
       "      <th>3</th>\n",
       "      <td>Thailand</td>\n",
       "      <td>4</td>\n",
       "      <td>184.03</td>\n",
       "      <td>56.0</td>\n",
       "      <td>32.38</td>\n",
       "      <td>2022-01-01</td>\n",
       "    </tr>\n",
       "    <tr>\n",
       "      <th>4</th>\n",
       "      <td>Hong Kong (SAR)</td>\n",
       "      <td>5</td>\n",
       "      <td>173.42</td>\n",
       "      <td>38.0</td>\n",
       "      <td>45.86</td>\n",
       "      <td>2022-01-01</td>\n",
       "    </tr>\n",
       "    <tr>\n",
       "      <th>5</th>\n",
       "      <td>Denmark</td>\n",
       "      <td>6</td>\n",
       "      <td>163.60</td>\n",
       "      <td>8.0</td>\n",
       "      <td>87.11</td>\n",
       "      <td>2022-01-01</td>\n",
       "    </tr>\n",
       "    <tr>\n",
       "      <th>6</th>\n",
       "      <td>Macau (SAR)</td>\n",
       "      <td>7</td>\n",
       "      <td>156.73</td>\n",
       "      <td>35.0</td>\n",
       "      <td>47.56</td>\n",
       "      <td>2022-01-01</td>\n",
       "    </tr>\n",
       "    <tr>\n",
       "      <th>7</th>\n",
       "      <td>China</td>\n",
       "      <td>8</td>\n",
       "      <td>155.79</td>\n",
       "      <td>9.0</td>\n",
       "      <td>85.83</td>\n",
       "      <td>2022-01-01</td>\n",
       "    </tr>\n",
       "    <tr>\n",
       "      <th>8</th>\n",
       "      <td>United States</td>\n",
       "      <td>9</td>\n",
       "      <td>143.76</td>\n",
       "      <td>21.0</td>\n",
       "      <td>62.47</td>\n",
       "      <td>2022-01-01</td>\n",
       "    </tr>\n",
       "    <tr>\n",
       "      <th>9</th>\n",
       "      <td>Spain</td>\n",
       "      <td>10</td>\n",
       "      <td>134.19</td>\n",
       "      <td>49.0</td>\n",
       "      <td>35.59</td>\n",
       "      <td>2022-01-01</td>\n",
       "    </tr>\n",
       "  </tbody>\n",
       "</table>\n",
       "</div>"
      ],
      "text/plain": [
       "           Country  Broadband Speed Rank  Broadband Mbps  Mobile Speed Rank  \\\n",
       "0           Monaco                     1          192.68                NaN   \n",
       "1        Singapore                     2          192.01               19.0   \n",
       "2            Chile                     3          189.36              109.0   \n",
       "3         Thailand                     4          184.03               56.0   \n",
       "4  Hong Kong (SAR)                     5          173.42               38.0   \n",
       "5          Denmark                     6          163.60                8.0   \n",
       "6      Macau (SAR)                     7          156.73               35.0   \n",
       "7            China                     8          155.79                9.0   \n",
       "8    United States                     9          143.76               21.0   \n",
       "9            Spain                    10          134.19               49.0   \n",
       "\n",
       "   Mobile Mbps      As of  \n",
       "0          NaN 2022-01-01  \n",
       "1        64.92 2022-01-01  \n",
       "2        15.50 2022-01-01  \n",
       "3        32.38 2022-01-01  \n",
       "4        45.86 2022-01-01  \n",
       "5        87.11 2022-01-01  \n",
       "6        47.56 2022-01-01  \n",
       "7        85.83 2022-01-01  \n",
       "8        62.47 2022-01-01  \n",
       "9        35.59 2022-01-01  "
      ]
     },
     "execution_count": 3,
     "metadata": {},
     "output_type": "execute_result"
    }
   ],
   "source": [
    "dataset.head(10)"
   ]
  },
  {
   "cell_type": "code",
   "execution_count": 4,
   "id": "0a074d52",
   "metadata": {},
   "outputs": [],
   "source": [
    "from statistics import mean, median, mode, stdev"
   ]
  },
  {
   "cell_type": "code",
   "execution_count": 5,
   "id": "30c4d89d",
   "metadata": {},
   "outputs": [
    {
     "data": {
      "text/plain": [
       "90.0"
      ]
     },
     "execution_count": 5,
     "metadata": {},
     "output_type": "execute_result"
    }
   ],
   "source": [
    "dataset['Broadband Speed Rank'].median()"
   ]
  },
  {
   "cell_type": "markdown",
   "id": "8d87ea9a",
   "metadata": {},
   "source": [
    "🙆 Machen zum Abschluss Sie sich mit dem Menü und den verschiedenen Funktionen von `jupyter` vertraut - insbesondere wichtig sind: \n",
    "* unter `Insert` können Sie neue Blöcke einfügen\n",
    "* unter `Cell` können Sie den Typ eines Blocks ändern, und Blöcke ausführen\n",
    "* unter `Kernel` können Sie den `python`-*interpreter* neu starten etc."
   ]
  },
  {
   "cell_type": "code",
   "execution_count": 6,
   "id": "d3f7cf3c",
   "metadata": {},
   "outputs": [
    {
     "data": {
      "text/plain": [
       "33.76"
      ]
     },
     "execution_count": 6,
     "metadata": {},
     "output_type": "execute_result"
    }
   ],
   "source": [
    "dataset['Broadband Mbps'].median()"
   ]
  },
  {
   "cell_type": "code",
   "execution_count": 7,
   "id": "6c8b3d72",
   "metadata": {},
   "outputs": [
    {
     "data": {
      "text/plain": [
       "70.0"
      ]
     },
     "execution_count": 7,
     "metadata": {},
     "output_type": "execute_result"
    }
   ],
   "source": [
    "dataset['Mobile Speed Rank'].median()"
   ]
  },
  {
   "cell_type": "code",
   "execution_count": 8,
   "id": "5200336d",
   "metadata": {},
   "outputs": [
    {
     "data": {
      "text/plain": [
       "26.18"
      ]
     },
     "execution_count": 8,
     "metadata": {},
     "output_type": "execute_result"
    }
   ],
   "source": [
    "dataset['Mobile Mbps'].median()"
   ]
  },
  {
   "cell_type": "code",
   "execution_count": 9,
   "id": "9e3177c8",
   "metadata": {},
   "outputs": [
    {
     "data": {
      "text/plain": [
       "Timestamp('2022-01-01 00:00:00')"
      ]
     },
     "execution_count": 9,
     "metadata": {},
     "output_type": "execute_result"
    }
   ],
   "source": [
    "dataset['As of'].median()"
   ]
  },
  {
   "cell_type": "code",
   "execution_count": 10,
   "id": "ccd64ad2",
   "metadata": {},
   "outputs": [
    {
     "data": {
      "text/plain": [
       "40.56516721472226"
      ]
     },
     "execution_count": 10,
     "metadata": {},
     "output_type": "execute_result"
    }
   ],
   "source": [
    "dataset['Mobile Speed Rank'].std()"
   ]
  },
  {
   "cell_type": "code",
   "execution_count": 11,
   "id": "02688ed5",
   "metadata": {},
   "outputs": [
    {
     "data": {
      "text/plain": [
       "43.67385980522975"
      ]
     },
     "execution_count": 11,
     "metadata": {},
     "output_type": "execute_result"
    }
   ],
   "source": [
    "dataset['Broadband Mbps'].std()"
   ]
  },
  {
   "cell_type": "code",
   "execution_count": 12,
   "id": "3f5bb533",
   "metadata": {},
   "outputs": [
    {
     "data": {
      "text/plain": [
       "26.686495697483842"
      ]
     },
     "execution_count": 12,
     "metadata": {},
     "output_type": "execute_result"
    }
   ],
   "source": [
    "dataset['Mobile Mbps'].std()"
   ]
  },
  {
   "cell_type": "code",
   "execution_count": 13,
   "id": "70f103c1",
   "metadata": {},
   "outputs": [
    {
     "data": {
      "text/plain": [
       "Timedelta('0 days 00:00:00')"
      ]
     },
     "execution_count": 13,
     "metadata": {},
     "output_type": "execute_result"
    }
   ],
   "source": [
    "dataset['As of'].std()"
   ]
  },
  {
   "cell_type": "code",
   "execution_count": 14,
   "id": "b6205fdd",
   "metadata": {
    "scrolled": true
   },
   "outputs": [
    {
     "name": "stdout",
     "output_type": "stream",
     "text": [
      "Requirement already satisfied: matplotlib in c:\\apps\\anaconda\\lib\\site-packages (3.4.3)\n",
      "Requirement already satisfied: python-dateutil>=2.7 in c:\\apps\\anaconda\\lib\\site-packages (from matplotlib) (2.8.2)\n",
      "Requirement already satisfied: pyparsing>=2.2.1 in c:\\apps\\anaconda\\lib\\site-packages (from matplotlib) (3.0.4)\n",
      "Requirement already satisfied: kiwisolver>=1.0.1 in c:\\apps\\anaconda\\lib\\site-packages (from matplotlib) (1.3.1)\n",
      "Requirement already satisfied: numpy>=1.16 in c:\\apps\\anaconda\\lib\\site-packages (from matplotlib) (1.20.3)\n",
      "Requirement already satisfied: pillow>=6.2.0 in c:\\apps\\anaconda\\lib\\site-packages (from matplotlib) (8.4.0)\n",
      "Requirement already satisfied: cycler>=0.10 in c:\\apps\\anaconda\\lib\\site-packages (from matplotlib) (0.10.0)\n",
      "Requirement already satisfied: six in c:\\apps\\anaconda\\lib\\site-packages (from cycler>=0.10->matplotlib) (1.16.0)\n"
     ]
    }
   ],
   "source": [
    "!pip install matplotlib"
   ]
  },
  {
   "cell_type": "code",
   "execution_count": 15,
   "id": "28c25749",
   "metadata": {},
   "outputs": [],
   "source": [
    "import matplotlib.pyplot as plt"
   ]
  },
  {
   "cell_type": "code",
   "execution_count": 24,
   "id": "9ff42752",
   "metadata": {},
   "outputs": [
    {
     "data": {
      "image/png": "[encoded data removed]",
      "text/plain": [
       "<Figure size 432x288 with 1 Axes>"
      ]
     },
     "metadata": {},
     "output_type": "display_data"
    }
   ],
   "source": [
    "with plt.xkcd(): \n",
    "    plt.hist(dataset[\"Broadband Mbps\"].dropna(),bins=range (0,90,10)) \n",
    "    plt.title(\"Broadband Speed Rank\") \n",
    "    plt.xlabel(\"Countrys\") \n",
    "    plt.ylabel(\"Broadband Mbps\")"
   ]
  },
  {
   "cell_type": "code",
   "execution_count": null,
   "id": "d0e75fc7",
   "metadata": {},
   "outputs": [],
   "source": []
  }
 ],
 "metadata": {
  "kernelspec": {
   "display_name": "Python 3 (ipykernel)",
   "language": "python",
   "name": "python3"
  },
  "language_info": {
   "codemirror_mode": {
    "name": "ipython",
    "version": 3
   },
   "file_extension": ".py",
   "mimetype": "text/x-python",
   "name": "python",
   "nbconvert_exporter": "python",
   "pygments_lexer": "ipython3",
   "version": "3.9.7"
  }
 },
 "nbformat": 4,
 "nbformat_minor": 5
}

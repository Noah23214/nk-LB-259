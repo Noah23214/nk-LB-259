{
 "cells": [
  {
   "cell_type": "code",
   "execution_count": 72,
   "id": "7594b07a",
   "metadata": {},
   "outputs": [
    {
     "name": "stdout",
     "output_type": "stream",
     "text": [
      "Requirement already satisfied: pandas in c:\\apps\\anaconda\\lib\\site-packages (1.3.4)\n",
      "Requirement already satisfied: numpy>=1.17.3 in c:\\apps\\anaconda\\lib\\site-packages (from pandas) (1.20.3)\n",
      "Requirement already satisfied: pytz>=2017.3 in c:\\apps\\anaconda\\lib\\site-packages (from pandas) (2021.3)\n",
      "Requirement already satisfied: python-dateutil>=2.7.3 in c:\\apps\\anaconda\\lib\\site-packages (from pandas) (2.8.2)\n",
      "Requirement already satisfied: six>=1.5 in c:\\apps\\anaconda\\lib\\site-packages (from python-dateutil>=2.7.3->pandas) (1.16.0)\n"
     ]
    }
   ],
   "source": [
    "!pip install pandas"
   ]
  },
  {
   "cell_type": "code",
   "execution_count": 73,
   "id": "b815558f",
   "metadata": {},
   "outputs": [
    {
     "data": {
      "text/html": [
       "<div>\n",
       "<style scoped>\n",
       "    .dataframe tbody tr th:only-of-type {\n",
       "        vertical-align: middle;\n",
       "    }\n",
       "\n",
       "    .dataframe tbody tr th {\n",
       "        vertical-align: top;\n",
       "    }\n",
       "\n",
       "    .dataframe thead th {\n",
       "        text-align: right;\n",
       "    }\n",
       "</style>\n",
       "<table border=\"1\" class=\"dataframe\">\n",
       "  <thead>\n",
       "    <tr style=\"text-align: right;\">\n",
       "      <th></th>\n",
       "      <th>Country</th>\n",
       "      <th>Broadband Speed Rank</th>\n",
       "      <th>Broadband Mbps</th>\n",
       "      <th>Mobile Speed Rank</th>\n",
       "      <th>Mobile Mbps</th>\n",
       "      <th>As of</th>\n",
       "    </tr>\n",
       "  </thead>\n",
       "  <tbody>\n",
       "    <tr>\n",
       "      <th>0</th>\n",
       "      <td>Monaco</td>\n",
       "      <td>1</td>\n",
       "      <td>192.68</td>\n",
       "      <td>NaN</td>\n",
       "      <td>NaN</td>\n",
       "      <td>2022-01-01</td>\n",
       "    </tr>\n",
       "    <tr>\n",
       "      <th>1</th>\n",
       "      <td>Singapore</td>\n",
       "      <td>2</td>\n",
       "      <td>192.01</td>\n",
       "      <td>19.0</td>\n",
       "      <td>64.92</td>\n",
       "      <td>2022-01-01</td>\n",
       "    </tr>\n",
       "    <tr>\n",
       "      <th>2</th>\n",
       "      <td>Chile</td>\n",
       "      <td>3</td>\n",
       "      <td>189.36</td>\n",
       "      <td>109.0</td>\n",
       "      <td>15.50</td>\n",
       "      <td>2022-01-01</td>\n",
       "    </tr>\n",
       "    <tr>\n",
       "      <th>3</th>\n",
       "      <td>Thailand</td>\n",
       "      <td>4</td>\n",
       "      <td>184.03</td>\n",
       "      <td>56.0</td>\n",
       "      <td>32.38</td>\n",
       "      <td>2022-01-01</td>\n",
       "    </tr>\n",
       "    <tr>\n",
       "      <th>4</th>\n",
       "      <td>Hong Kong (SAR)</td>\n",
       "      <td>5</td>\n",
       "      <td>173.42</td>\n",
       "      <td>38.0</td>\n",
       "      <td>45.86</td>\n",
       "      <td>2022-01-01</td>\n",
       "    </tr>\n",
       "  </tbody>\n",
       "</table>\n",
       "</div>"
      ],
      "text/plain": [
       "           Country  Broadband Speed Rank  Broadband Mbps  Mobile Speed Rank  \\\n",
       "0           Monaco                     1          192.68                NaN   \n",
       "1        Singapore                     2          192.01               19.0   \n",
       "2            Chile                     3          189.36              109.0   \n",
       "3         Thailand                     4          184.03               56.0   \n",
       "4  Hong Kong (SAR)                     5          173.42               38.0   \n",
       "\n",
       "   Mobile Mbps      As of  \n",
       "0          NaN 2022-01-01  \n",
       "1        64.92 2022-01-01  \n",
       "2        15.50 2022-01-01  \n",
       "3        32.38 2022-01-01  \n",
       "4        45.86 2022-01-01  "
      ]
     },
     "execution_count": 73,
     "metadata": {},
     "output_type": "execute_result"
    }
   ],
   "source": [
    "import pandas as pd\n",
    "import os\n",
    "path=os.path.join(\"broadband-dataset\",\"Dataset.xlsx\")\n",
    "dataset = pd.read_excel(\"Dataset.xlsx\")\n",
    "dataset.head()"
   ]
  },
  {
   "cell_type": "code",
   "execution_count": 74,
   "id": "8e2cfd85",
   "metadata": {},
   "outputs": [
    {
     "data": {
      "text/html": [
       "<div>\n",
       "<style scoped>\n",
       "    .dataframe tbody tr th:only-of-type {\n",
       "        vertical-align: middle;\n",
       "    }\n",
       "\n",
       "    .dataframe tbody tr th {\n",
       "        vertical-align: top;\n",
       "    }\n",
       "\n",
       "    .dataframe thead th {\n",
       "        text-align: right;\n",
       "    }\n",
       "</style>\n",
       "<table border=\"1\" class=\"dataframe\">\n",
       "  <thead>\n",
       "    <tr style=\"text-align: right;\">\n",
       "      <th></th>\n",
       "      <th>Broadband Mbps</th>\n",
       "      <th>Country</th>\n",
       "      <th>Mobile Speed Rank</th>\n",
       "    </tr>\n",
       "  </thead>\n",
       "  <tbody>\n",
       "    <tr>\n",
       "      <th>0</th>\n",
       "      <td>192.68</td>\n",
       "      <td>Monaco</td>\n",
       "      <td>NaN</td>\n",
       "    </tr>\n",
       "    <tr>\n",
       "      <th>1</th>\n",
       "      <td>192.01</td>\n",
       "      <td>Singapore</td>\n",
       "      <td>19.0</td>\n",
       "    </tr>\n",
       "    <tr>\n",
       "      <th>2</th>\n",
       "      <td>189.36</td>\n",
       "      <td>Chile</td>\n",
       "      <td>109.0</td>\n",
       "    </tr>\n",
       "    <tr>\n",
       "      <th>3</th>\n",
       "      <td>184.03</td>\n",
       "      <td>Thailand</td>\n",
       "      <td>56.0</td>\n",
       "    </tr>\n",
       "    <tr>\n",
       "      <th>4</th>\n",
       "      <td>173.42</td>\n",
       "      <td>Hong Kong (SAR)</td>\n",
       "      <td>38.0</td>\n",
       "    </tr>\n",
       "  </tbody>\n",
       "</table>\n",
       "</div>"
      ],
      "text/plain": [
       "   Broadband Mbps          Country  Mobile Speed Rank\n",
       "0          192.68           Monaco                NaN\n",
       "1          192.01        Singapore               19.0\n",
       "2          189.36            Chile              109.0\n",
       "3          184.03         Thailand               56.0\n",
       "4          173.42  Hong Kong (SAR)               38.0"
      ]
     },
     "execution_count": 74,
     "metadata": {},
     "output_type": "execute_result"
    }
   ],
   "source": [
    "#Test und Train-Satzt\n",
    "X = dataset[[\"Broadband Mbps\", \"Country\",\"Mobile Speed Rank\",]]\n",
    "y = dataset[[\"Broadband Speed Rank\"]]\n",
    "\n",
    "X.head()"
   ]
  },
  {
   "cell_type": "code",
   "execution_count": 75,
   "id": "3ef08a21",
   "metadata": {},
   "outputs": [
    {
     "data": {
      "text/plain": [
       "0"
      ]
     },
     "execution_count": 75,
     "metadata": {},
     "output_type": "execute_result"
    }
   ],
   "source": [
    "#Das es keine Fehler bei not null gibt\n",
    "from sklearn.impute import SimpleImputer\n",
    "import numpy as np\n",
    "si = SimpleImputer(missing_values=np.nan, strategy='most_frequent')\n",
    "si.fit(X)\n",
    "X_ = si.transform(X)\n",
    "X = pd.DataFrame(X_, columns=X.columns)\n",
    "len(X[X.isna().any(axis=1)])"
   ]
  },
  {
   "cell_type": "code",
   "execution_count": 76,
   "id": "5411275d",
   "metadata": {},
   "outputs": [],
   "source": [
    "#Enocder Country zu zahlen\n",
    "from sklearn import preprocessing\n",
    "oe = preprocessing.OrdinalEncoder().fit(X[[\"Country\"]])\n",
    "X[[\"Country\"]] = oe.transform(X[[\"Country\"]])\n"
   ]
  },
  {
   "cell_type": "code",
   "execution_count": 77,
   "id": "df93ba0e",
   "metadata": {},
   "outputs": [
    {
     "data": {
      "text/html": [
       "<div>\n",
       "<style scoped>\n",
       "    .dataframe tbody tr th:only-of-type {\n",
       "        vertical-align: middle;\n",
       "    }\n",
       "\n",
       "    .dataframe tbody tr th {\n",
       "        vertical-align: top;\n",
       "    }\n",
       "\n",
       "    .dataframe thead th {\n",
       "        text-align: right;\n",
       "    }\n",
       "</style>\n",
       "<table border=\"1\" class=\"dataframe\">\n",
       "  <thead>\n",
       "    <tr style=\"text-align: right;\">\n",
       "      <th></th>\n",
       "      <th>Broadband Mbps</th>\n",
       "      <th>Country</th>\n",
       "      <th>Mobile Speed Rank</th>\n",
       "    </tr>\n",
       "  </thead>\n",
       "  <tbody>\n",
       "    <tr>\n",
       "      <th>0</th>\n",
       "      <td>192.68</td>\n",
       "      <td>103.0</td>\n",
       "      <td>1.0</td>\n",
       "    </tr>\n",
       "    <tr>\n",
       "      <th>1</th>\n",
       "      <td>192.01</td>\n",
       "      <td>141.0</td>\n",
       "      <td>19.0</td>\n",
       "    </tr>\n",
       "    <tr>\n",
       "      <th>2</th>\n",
       "      <td>189.36</td>\n",
       "      <td>31.0</td>\n",
       "      <td>109.0</td>\n",
       "    </tr>\n",
       "    <tr>\n",
       "      <th>3</th>\n",
       "      <td>184.03</td>\n",
       "      <td>158.0</td>\n",
       "      <td>56.0</td>\n",
       "    </tr>\n",
       "    <tr>\n",
       "      <th>4</th>\n",
       "      <td>173.42</td>\n",
       "      <td>64.0</td>\n",
       "      <td>38.0</td>\n",
       "    </tr>\n",
       "  </tbody>\n",
       "</table>\n",
       "</div>"
      ],
      "text/plain": [
       "  Broadband Mbps  Country Mobile Speed Rank\n",
       "0         192.68    103.0               1.0\n",
       "1         192.01    141.0              19.0\n",
       "2         189.36     31.0             109.0\n",
       "3         184.03    158.0              56.0\n",
       "4         173.42     64.0              38.0"
      ]
     },
     "execution_count": 77,
     "metadata": {},
     "output_type": "execute_result"
    }
   ],
   "source": [
    "X.head()"
   ]
  },
  {
   "cell_type": "code",
   "execution_count": 78,
   "id": "edfcf8ff",
   "metadata": {},
   "outputs": [
    {
     "data": {
      "text/plain": [
       "(143, 36)"
      ]
     },
     "execution_count": 78,
     "metadata": {},
     "output_type": "execute_result"
    }
   ],
   "source": [
    "#Split\n",
    "from sklearn.model_selection import train_test_split\n",
    "\n",
    "X_train, X_test, y_train, y_test = train_test_split(\n",
    "   X, y, test_size = 0.2, random_state = 42)\n",
    "len(X_train), len(X_test)"
   ]
  },
  {
   "cell_type": "code",
   "execution_count": 79,
   "id": "c566787e",
   "metadata": {},
   "outputs": [
    {
     "data": {
      "text/plain": [
       "3.2"
      ]
     },
     "execution_count": 79,
     "metadata": {},
     "output_type": "execute_result"
    }
   ],
   "source": [
    "3.2 #Ich habe die Entscheidung getroffen den Algorithmus Nearest Neighbors zu wählen, weil Die \n",
    "#Nearest-Neighbour-Klassifizierung ist eine nichtparametrische Methode zum Schätzen von Wahrscheinlichkeitsdichtefunktionen. \n",
    "#Der Algorithmus für generierte k-nächste Nachbarn ist ein Klassifizierungsverfahren, bei dem Klassenzuweisungen unter Berücksichtigung seiner k nächsten Nachbarn vorgenommen werden.\n",
    "#Daher habe ich mich für diesen Algorithmus entschieden und natürlich, weil er am besten zu meinem Datensatzt passt."
   ]
  },
  {
   "cell_type": "code",
   "execution_count": 80,
   "id": "320841a2",
   "metadata": {},
   "outputs": [
    {
     "name": "stdout",
     "output_type": "stream",
     "text": [
      "Nearest Neighbors 0\n"
     ]
    }
   ],
   "source": [
    "#Immer anderes Resultat wen man 10 mal ausführt sind 9 davon 0 und einmal 0.79 aber manchmal rechnet er auch 0.78.\n",
    "#Warscheinlich wegen des Datums oder der Datenmänge\n",
    "from sklearn.neighbors import KNeighborsClassifier\n",
    "algorithms = {\n",
    "    \"Nearest Neighbors\" : KNeighborsClassifier(3),\n",
    "}\n",
    "\n",
    "for name, algorithm in algorithms.items():\n",
    "\n",
    "    algorithm.fit(X_train, y_train.values.ravel())\n",
    "    score = algorithm.score(X_test, y_test)\n",
    "    print(name, round(score,))"
   ]
  },
  {
   "cell_type": "code",
   "execution_count": 82,
   "id": "ada84ac3",
   "metadata": {},
   "outputs": [
    {
     "data": {
      "text/html": [
       "<div>\n",
       "<style scoped>\n",
       "    .dataframe tbody tr th:only-of-type {\n",
       "        vertical-align: middle;\n",
       "    }\n",
       "\n",
       "    .dataframe tbody tr th {\n",
       "        vertical-align: top;\n",
       "    }\n",
       "\n",
       "    .dataframe thead th {\n",
       "        text-align: right;\n",
       "    }\n",
       "</style>\n",
       "<table border=\"1\" class=\"dataframe\">\n",
       "  <thead>\n",
       "    <tr style=\"text-align: right;\">\n",
       "      <th></th>\n",
       "      <th>Broadband Mbps</th>\n",
       "      <th>Country</th>\n",
       "      <th>Mobile Speed Rank</th>\n",
       "    </tr>\n",
       "  </thead>\n",
       "  <tbody>\n",
       "    <tr>\n",
       "      <th>0</th>\n",
       "      <td>3</td>\n",
       "      <td>20</td>\n",
       "      <td>3</td>\n",
       "    </tr>\n",
       "    <tr>\n",
       "      <th>0</th>\n",
       "      <td>1</td>\n",
       "      <td>17</td>\n",
       "      <td>1</td>\n",
       "    </tr>\n",
       "  </tbody>\n",
       "</table>\n",
       "</div>"
      ],
      "text/plain": [
       "   Broadband Mbps  Country  Mobile Speed Rank\n",
       "0               3       20                  3\n",
       "0               1       17                  1"
      ]
     },
     "execution_count": 82,
     "metadata": {},
     "output_type": "execute_result"
    }
   ],
   "source": [
    "\n",
    "Brasilien = pd.DataFrame([[3, 20, 3,]], columns=X_train.columns)\n",
    "Brasilien.head()\n",
    "\n",
    "Deutschland = pd.DataFrame([[1, 17, 1,]], columns=X_train.columns)\n",
    "Deutschland.head()\n",
    "\n",
    "lovebirds_at_sea = pd.concat([Brasilien,Deutschland])\n",
    "lovebirds_at_sea.head()"
   ]
  },
  {
   "cell_type": "code",
   "execution_count": null,
   "id": "284718e1",
   "metadata": {},
   "outputs": [],
   "source": [
    "3.3 #Meine Erkenntnisse sind das es richtig berechnet wird jedoch funktieonirt der Algorithmus nicht immer, weil der Datensatzt\n",
    "#zu knapp von den Daten her ist und ebenfalls könnte es wegen des Datums Probleme geben.\n",
    "# Daher finde ich das es eigentlich ein passender Algorithmus habe auch manuel getestet die Resultate stimmen.\n"
   ]
  }
 ],
 "metadata": {
  "kernelspec": {
   "display_name": "Python 3 (ipykernel)",
   "language": "python",
   "name": "python3"
  },
  "language_info": {
   "codemirror_mode": {
    "name": "ipython",
    "version": 3
   },
   "file_extension": ".py",
   "mimetype": "text/x-python",
   "name": "python",
   "nbconvert_exporter": "python",
   "pygments_lexer": "ipython3",
   "version": "3.9.7"
  }
 },
 "nbformat": 4,
 "nbformat_minor": 5
}

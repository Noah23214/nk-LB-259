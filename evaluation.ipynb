{
 "cells": [
  {
   "cell_type": "code",
   "execution_count": null,
   "id": "d595995f",
   "metadata": {},
   "outputs": [],
   "source": [
    "#4.1 In meinem Model ist das Feld 'Broadband Mbps' devinitiv das wichtigste ohni dieses würde nichts funktionieren und der Datensatzt würden seinen Sinn verlieren.\n",
    "#Ohne dieses Feld würde einfach alles keinen Sinn mehr ergeben, daher ist das Feld 'Broadband Mbps' mit Abstand das wichtigste und aussagekräftigste man könnte sagen der Datensaztz bassiert auf diesem Feld.\n",
    "#4.4 Mein Model funktioneirt relativ gut ich habe zwar ein wenig einen Knappen Datensatzt denoch klappt es einigermassen gut. Meine Ergebnisse stimmen meinen Rechnungen überein und sind korrekt.\n",
    "#Meine Hypothese ist jedoch das es auf lange Sicht Schwierig wird, weil es einfach an mehr Daten und Datenfeldern fehlt. Ich bin sehr zufrienden das es reibungslos geklappt hat und das die Rsultate übereinstimmen."
   ]
  },
  {
   "cell_type": "code",
   "execution_count": 8,
   "id": "6b6ce5fb",
   "metadata": {},
   "outputs": [
    {
     "data": {
      "text/html": [
       "<div>\n",
       "<style scoped>\n",
       "    .dataframe tbody tr th:only-of-type {\n",
       "        vertical-align: middle;\n",
       "    }\n",
       "\n",
       "    .dataframe tbody tr th {\n",
       "        vertical-align: top;\n",
       "    }\n",
       "\n",
       "    .dataframe thead th {\n",
       "        text-align: right;\n",
       "    }\n",
       "</style>\n",
       "<table border=\"1\" class=\"dataframe\">\n",
       "  <thead>\n",
       "    <tr style=\"text-align: right;\">\n",
       "      <th></th>\n",
       "      <th>Country</th>\n",
       "      <th>Broadband Speed Rank</th>\n",
       "      <th>Broadband Mbps</th>\n",
       "      <th>Mobile Speed Rank</th>\n",
       "      <th>Mobile Mbps</th>\n",
       "      <th>As of</th>\n",
       "    </tr>\n",
       "  </thead>\n",
       "  <tbody>\n",
       "    <tr>\n",
       "      <th>0</th>\n",
       "      <td>Monaco</td>\n",
       "      <td>1</td>\n",
       "      <td>192.68</td>\n",
       "      <td>NaN</td>\n",
       "      <td>NaN</td>\n",
       "      <td>2022-01-01</td>\n",
       "    </tr>\n",
       "    <tr>\n",
       "      <th>1</th>\n",
       "      <td>Singapore</td>\n",
       "      <td>2</td>\n",
       "      <td>192.01</td>\n",
       "      <td>19.0</td>\n",
       "      <td>64.92</td>\n",
       "      <td>2022-01-01</td>\n",
       "    </tr>\n",
       "    <tr>\n",
       "      <th>2</th>\n",
       "      <td>Chile</td>\n",
       "      <td>3</td>\n",
       "      <td>189.36</td>\n",
       "      <td>109.0</td>\n",
       "      <td>15.50</td>\n",
       "      <td>2022-01-01</td>\n",
       "    </tr>\n",
       "    <tr>\n",
       "      <th>3</th>\n",
       "      <td>Thailand</td>\n",
       "      <td>4</td>\n",
       "      <td>184.03</td>\n",
       "      <td>56.0</td>\n",
       "      <td>32.38</td>\n",
       "      <td>2022-01-01</td>\n",
       "    </tr>\n",
       "    <tr>\n",
       "      <th>4</th>\n",
       "      <td>Hong Kong (SAR)</td>\n",
       "      <td>5</td>\n",
       "      <td>173.42</td>\n",
       "      <td>38.0</td>\n",
       "      <td>45.86</td>\n",
       "      <td>2022-01-01</td>\n",
       "    </tr>\n",
       "  </tbody>\n",
       "</table>\n",
       "</div>"
      ],
      "text/plain": [
       "           Country  Broadband Speed Rank  Broadband Mbps  Mobile Speed Rank  \\\n",
       "0           Monaco                     1          192.68                NaN   \n",
       "1        Singapore                     2          192.01               19.0   \n",
       "2            Chile                     3          189.36              109.0   \n",
       "3         Thailand                     4          184.03               56.0   \n",
       "4  Hong Kong (SAR)                     5          173.42               38.0   \n",
       "\n",
       "   Mobile Mbps      As of  \n",
       "0          NaN 2022-01-01  \n",
       "1        64.92 2022-01-01  \n",
       "2        15.50 2022-01-01  \n",
       "3        32.38 2022-01-01  \n",
       "4        45.86 2022-01-01  "
      ]
     },
     "execution_count": 8,
     "metadata": {},
     "output_type": "execute_result"
    }
   ],
   "source": [
    "import pandas as pd\n",
    "import os\n",
    "path=os.path.join(\"broadband-dataset\",\"Dataset.xlsx\")\n",
    "dataset = pd.read_excel(\"Dataset.xlsx\")\n",
    "dataset.head()"
   ]
  },
  {
   "cell_type": "code",
   "execution_count": 10,
   "id": "891f6b71",
   "metadata": {},
   "outputs": [
    {
     "data": {
      "text/html": [
       "<div>\n",
       "<style scoped>\n",
       "    .dataframe tbody tr th:only-of-type {\n",
       "        vertical-align: middle;\n",
       "    }\n",
       "\n",
       "    .dataframe tbody tr th {\n",
       "        vertical-align: top;\n",
       "    }\n",
       "\n",
       "    .dataframe thead th {\n",
       "        text-align: right;\n",
       "    }\n",
       "</style>\n",
       "<table border=\"1\" class=\"dataframe\">\n",
       "  <thead>\n",
       "    <tr style=\"text-align: right;\">\n",
       "      <th></th>\n",
       "      <th>Broadband Mbps</th>\n",
       "      <th>Country</th>\n",
       "      <th>Mobile Speed Rank</th>\n",
       "    </tr>\n",
       "  </thead>\n",
       "  <tbody>\n",
       "    <tr>\n",
       "      <th>0</th>\n",
       "      <td>192.68</td>\n",
       "      <td>Monaco</td>\n",
       "      <td>NaN</td>\n",
       "    </tr>\n",
       "    <tr>\n",
       "      <th>1</th>\n",
       "      <td>192.01</td>\n",
       "      <td>Singapore</td>\n",
       "      <td>19.0</td>\n",
       "    </tr>\n",
       "    <tr>\n",
       "      <th>2</th>\n",
       "      <td>189.36</td>\n",
       "      <td>Chile</td>\n",
       "      <td>109.0</td>\n",
       "    </tr>\n",
       "    <tr>\n",
       "      <th>3</th>\n",
       "      <td>184.03</td>\n",
       "      <td>Thailand</td>\n",
       "      <td>56.0</td>\n",
       "    </tr>\n",
       "    <tr>\n",
       "      <th>4</th>\n",
       "      <td>173.42</td>\n",
       "      <td>Hong Kong (SAR)</td>\n",
       "      <td>38.0</td>\n",
       "    </tr>\n",
       "  </tbody>\n",
       "</table>\n",
       "</div>"
      ],
      "text/plain": [
       "   Broadband Mbps          Country  Mobile Speed Rank\n",
       "0          192.68           Monaco                NaN\n",
       "1          192.01        Singapore               19.0\n",
       "2          189.36            Chile              109.0\n",
       "3          184.03         Thailand               56.0\n",
       "4          173.42  Hong Kong (SAR)               38.0"
      ]
     },
     "execution_count": 10,
     "metadata": {},
     "output_type": "execute_result"
    }
   ],
   "source": [
    "X = dataset[[\"Broadband Mbps\", \"Country\",\"Mobile Speed Rank\",]]\n",
    "y = dataset[[\"Broadband Speed Rank\"]]\n",
    "\n",
    "X.head()"
   ]
  },
  {
   "cell_type": "code",
   "execution_count": 13,
   "id": "4e30f8bb",
   "metadata": {},
   "outputs": [
    {
     "data": {
      "text/plain": [
       "(143, 36)"
      ]
     },
     "execution_count": 13,
     "metadata": {},
     "output_type": "execute_result"
    }
   ],
   "source": [
    "from sklearn.model_selection import train_test_split\n",
    "\n",
    "X_train, X_test, y_train, y_test = train_test_split(\n",
    "   X, y, test_size = 0.2, random_state = 42)\n",
    "len(X_train), len(X_test)"
   ]
  },
  {
   "cell_type": "code",
   "execution_count": 15,
   "id": "3d5597a1",
   "metadata": {},
   "outputs": [
    {
     "name": "stdout",
     "output_type": "stream",
     "text": [
      "              precision    recall  f1-score   support\n",
      "\n",
      "          10       1.00      1.00      1.00         1\n",
      "          16       1.00      1.00      1.00         1\n",
      "          17       1.00      1.00      1.00         1\n",
      "          19       1.00      1.00      1.00         1\n",
      "          20       1.00      1.00      1.00         1\n",
      "          25       1.00      1.00      1.00         1\n",
      "          30       1.00      1.00      1.00         1\n",
      "          31       1.00      1.00      1.00         1\n",
      "          43       1.00      1.00      1.00         1\n",
      "          46       1.00      1.00      1.00         1\n",
      "          66       1.00      1.00      1.00         1\n",
      "          67       1.00      1.00      1.00         1\n",
      "          68       1.00      1.00      1.00         1\n",
      "          69       1.00      1.00      1.00         1\n",
      "          70       1.00      1.00      1.00         1\n",
      "          77       1.00      1.00      1.00         1\n",
      "          79       1.00      1.00      1.00         1\n",
      "          83       1.00      1.00      1.00         1\n",
      "          96       1.00      1.00      1.00         1\n",
      "          99       1.00      1.00      1.00         1\n",
      "         101       1.00      1.00      1.00         1\n",
      "         112       1.00      1.00      1.00         1\n",
      "         114       1.00      1.00      1.00         1\n",
      "         115       1.00      1.00      1.00         1\n",
      "         116       1.00      1.00      1.00         1\n",
      "         119       1.00      1.00      1.00         1\n",
      "         120       1.00      1.00      1.00         1\n",
      "         123       1.00      1.00      1.00         1\n",
      "         124       1.00      1.00      1.00         1\n",
      "         133       1.00      1.00      1.00         1\n",
      "         140       1.00      1.00      1.00         1\n",
      "         143       1.00      1.00      1.00         1\n",
      "         153       1.00      1.00      1.00         1\n",
      "         156       1.00      1.00      1.00         1\n",
      "         166       1.00      1.00      1.00         1\n",
      "         169       1.00      1.00      1.00         1\n",
      "\n",
      "    accuracy                           1.00        36\n",
      "   macro avg       1.00      1.00      1.00        36\n",
      "weighted avg       1.00      1.00      1.00        36\n",
      "\n"
     ]
    }
   ],
   "source": [
    "#4.2\n",
    "#Messmetrik \n",
    "from sklearn.metrics import classification_report\n",
    "print(classification_report(y_test, y_test))\n"
   ]
  },
  {
   "cell_type": "code",
   "execution_count": 22,
   "id": "91bfe6bb",
   "metadata": {},
   "outputs": [
    {
     "name": "stdout",
     "output_type": "stream",
     "text": [
      "0.74\n"
     ]
    }
   ],
   "source": [
    "#Bedinungen und Genauigkeit\n",
    "TP= 42\n",
    "TN = 32\n",
    "FP = 8\n",
    "FN = 18\n",
    "genauigkeit = (TP + TN)/(TP + TN + FP + FN)\n",
    "print(genauigkeit)"
   ]
  },
  {
   "cell_type": "code",
   "execution_count": 23,
   "id": "6494459a",
   "metadata": {},
   "outputs": [
    {
     "name": "stdout",
     "output_type": "stream",
     "text": [
      "recall: 1.00\n"
     ]
    }
   ],
   "source": [
    "#Sensitivität\n",
    "TP = 114\n",
    "FN = 0\n",
    "# FT (14) und TN (12) werden nicht benötigt!\n",
    "recall = TP / (TP + FN)\n",
    "print(f\"recall: {recall:4.2f}\")"
   ]
  },
  {
   "cell_type": "code",
   "execution_count": 24,
   "id": "45accdf0",
   "metadata": {},
   "outputs": [
    {
     "name": "stdout",
     "output_type": "stream",
     "text": [
      "  FN    FP   TP     pre   acc   rec   f1\n",
      "  0.00  0.00 93.00  1.00  1.00  1.00  1.00\n",
      "  1.00  0.00 92.00  1.00  0.99  0.99  0.99\n",
      "  1.00  1.00 91.00  0.99  0.98  0.99  0.99\n",
      "  2.00  0.00 91.00  1.00  0.98  0.98  0.99\n",
      "  2.00  1.00 90.00  0.99  0.98  0.98  0.98\n",
      "  2.00  2.00 89.00  0.98  0.97  0.98  0.98\n",
      "  3.00  0.00 90.00  1.00  0.98  0.97  0.98\n",
      "  3.00  1.00 89.00  0.99  0.97  0.97  0.98\n",
      "  3.00  2.00 88.00  0.98  0.96  0.97  0.97\n",
      "  3.00  3.00 87.00  0.97  0.95  0.97  0.97\n",
      "  4.00  0.00 89.00  1.00  0.97  0.96  0.98\n",
      "  4.00  1.00 88.00  0.99  0.96  0.96  0.97\n",
      "  4.00  2.00 87.00  0.98  0.95  0.96  0.97\n",
      "  4.00  3.00 86.00  0.97  0.94  0.96  0.96\n",
      "  4.00  4.00 85.00  0.96  0.94  0.96  0.96\n",
      "  5.00  0.00 88.00  1.00  0.96  0.95  0.97\n",
      "  5.00  1.00 87.00  0.99  0.95  0.95  0.97\n",
      "  5.00  2.00 86.00  0.98  0.94  0.95  0.96\n",
      "  5.00  3.00 85.00  0.97  0.94  0.94  0.96\n",
      "  5.00  4.00 84.00  0.95  0.93  0.94  0.95\n",
      "  5.00  5.00 83.00  0.94  0.92  0.94  0.94\n",
      "  6.00  0.00 87.00  1.00  0.95  0.94  0.97\n",
      "  6.00  1.00 86.00  0.99  0.94  0.93  0.96\n",
      "  6.00  2.00 85.00  0.98  0.94  0.93  0.96\n",
      "  6.00  3.00 84.00  0.97  0.93  0.93  0.95\n",
      "  6.00  4.00 83.00  0.95  0.92  0.93  0.94\n",
      "  6.00  5.00 82.00  0.94  0.91  0.93  0.94\n",
      "  6.00  6.00 81.00  0.93  0.90  0.93  0.93\n"
     ]
    }
   ],
   "source": [
    "#Spezifizät\n",
    "TF = 7 \n",
    "print(\"  FN    FP   TP     pre   acc   rec   f1\")\n",
    "for FN in range(0, 7):\n",
    "    for FP in range(0, FN+1):\n",
    "        TP = 100 - FN - FP - TF\n",
    "        #print(FN, FP, TP, FN+FP+TP+TF)\n",
    "        precision = TP / (TP + FP)\n",
    "        accuracy = (TP + TN)/(TP + TN + FP + FN)\n",
    "        recall = TP / (TP + FN)\n",
    "        f1_score = 2 * precision * recall / (precision + recall)\n",
    "        print(f\"{FN:6.2f}{FP:6.2f}{TP:6.2f}\", end=\"\")\n",
    "        print(f\"{precision:6.2f}{accuracy:6.2f}{recall:6.2f}{f1_score:6.2f}\")"
   ]
  },
  {
   "cell_type": "code",
   "execution_count": null,
   "id": "824525ac",
   "metadata": {},
   "outputs": [],
   "source": []
  }
 ],
 "metadata": {
  "kernelspec": {
   "display_name": "Python 3 (ipykernel)",
   "language": "python",
   "name": "python3"
  },
  "language_info": {
   "codemirror_mode": {
    "name": "ipython",
    "version": 3
   },
   "file_extension": ".py",
   "mimetype": "text/x-python",
   "name": "python",
   "nbconvert_exporter": "python",
   "pygments_lexer": "ipython3",
   "version": "3.9.7"
  }
 },
 "nbformat": 4,
 "nbformat_minor": 5
}
